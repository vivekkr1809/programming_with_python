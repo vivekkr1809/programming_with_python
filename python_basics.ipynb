{
 "cells": [
  {
   "cell_type": "markdown",
   "id": "4923962d",
   "metadata": {},
   "source": [
    "### Introduction to Python Programming"
   ]
  },
  {
   "cell_type": "markdown",
   "id": "168f0b4f-d754-4a1c-85ff-e398960a1b06",
   "metadata": {},
   "source": [
    "In this notebook we cover the basics of Python Programming and discuss the following:\n",
    "- Variables\n",
    "- if, elif, else\n",
    "- for, while"
   ]
  },
  {
   "cell_type": "markdown",
   "id": "8a8f8034-a697-468a-b5d1-9e9aedf9a654",
   "metadata": {},
   "source": [
    "### Variables\n",
    "In python variables are not declared like C++, but are simply defined at assignment and the type is infered. Further, the variable is not pointing to a value, it is pointing to an object. A Python variable is a symbolic name that is a reference or pointer to an object. Once an object is assigned to a variable, you can refer to the object by that name. But the data itself is still contained within the object."
   ]
  },
  {
   "cell_type": "code",
   "execution_count": 64,
   "id": "06ff2326",
   "metadata": {},
   "outputs": [],
   "source": [
    "# Some utility functions/definitions\n",
    "# Not relevant for learning. Only for making my life easier\n",
    "def print_var_type(var, name:str):\n",
    "  print(f\"{name} is of type {type(var)}\")\n",
    "\n",
    "separator = \"==================================\""
   ]
  },
  {
   "cell_type": "code",
   "execution_count": 65,
   "id": "d362d6ff-0997-4d15-a17a-3b30df6b3d63",
   "metadata": {},
   "outputs": [
    {
     "name": "stdout",
     "output_type": "stream",
     "text": [
      "John is of type <class 'str'>\n",
      "int_var is of type <class 'int'>\n",
      "float_var is of type <class 'float'>\n",
      "complex_var is of type <class 'complex'>\n",
      "list_var is of type <class 'list'>\n",
      "tuple_var is of type <class 'tuple'>\n",
      "range_var is of type <class 'range'>\n",
      "dict_var is of type <class 'dict'>\n",
      "set_var is of type <class 'set'>\n",
      "frozen_set_var is of type <class 'frozenset'>\n",
      "bool_var is of type <class 'bool'>\n"
     ]
    }
   ],
   "source": [
    "\"\"\"\n",
    "Python basic data types\n",
    "\"\"\"\n",
    "str_var = \"John\" #string <str>\n",
    "# Check data type using type()\n",
    "print(f\"{str_var} is of type {type(str_var)}\")\n",
    "\n",
    "int_var = 10 # int\n",
    "print_var_type(int_var, \"int_var\")\n",
    "\n",
    "float_var = 1.3 #float\n",
    "print_var_type(float_var, \"float_var\")\n",
    "\n",
    "complex_var = 1.0+1.0j\n",
    "print_var_type(complex_var, \"complex_var\")\n",
    "\n",
    "list_var = [1, 2, 3] #list\n",
    "print_var_type(list_var, \"list_var\")\n",
    "\n",
    "tuple_var = (1,2)\n",
    "print_var_type(tuple_var, \"tuple_var\")\n",
    "\n",
    "range_var = range(1,10) # This is [1, 2, 3, 4, 5, 6, 7, 8, 9].\n",
    "print_var_type(range_var, \"range_var\")\n",
    "\n",
    "dict_var = {\"name\": \"John\", \"age\": 27} #dictionary\n",
    "print_var_type(dict_var, \"dict_var\")\n",
    "\n",
    "set_var = {1, 2, 3}\n",
    "print_var_type(set_var, \"set_var\")\n",
    "\n",
    "frozen_set_var = frozenset({1, 2, 3})\n",
    "print_var_type(frozen_set_var, \"frozen_set_var\")\n",
    "\n",
    "bool_var = True\n",
    "print_var_type(bool_var, \"bool_var\")"
   ]
  },
  {
   "cell_type": "markdown",
   "id": "0adb4b5f",
   "metadata": {},
   "source": [
    "If the output is not displayed on github:\n",
    "- John is of type \\<class 'str'\\>\n",
    "- int_var is of type <class 'int'>\n",
    "- float_var is of type <class 'float'>\n",
    "- complex_var is of type <class 'complex'>\n",
    "- list_var is of type <class 'list'>\n",
    "- tuple_var is of type <class 'tuple'>\n",
    "- range_var is of type <class 'range'>\n",
    "- dict_var is of type <class 'dict'>\n",
    "- set_var is of type <class 'set'>\n",
    "- frozen_set_var is of type <class 'frozenset'>\n",
    "- bool_var is of type <class 'bool'>\n"
   ]
  },
  {
   "cell_type": "markdown",
   "id": "1d0b06c1",
   "metadata": {},
   "source": [
    "Let us look at what it means that the variable is pointing to the object and is not an object itself. Lets say we create a new variable `x` which _equals_ `list_var`. What happens under the hood is that the variable `x` is now pointing to the same object that `list_var` was pointing to. And the object `[1,2,3]` has now two references"
   ]
  },
  {
   "cell_type": "code",
   "execution_count": 66,
   "id": "6226178f-48ba-4743-905c-8bb2a0b541ae",
   "metadata": {},
   "outputs": [
    {
     "name": "stdout",
     "output_type": "stream",
     "text": [
      "2185830835776\n"
     ]
    }
   ],
   "source": [
    "x = list_var\n",
    "id(x)==id(list_var)\n",
    "print(id(x))\n",
    "# The variables x and var_5 are pointing to the same object"
   ]
  },
  {
   "cell_type": "code",
   "execution_count": 67,
   "id": "2ae66877",
   "metadata": {},
   "outputs": [
    {
     "name": "stdout",
     "output_type": "stream",
     "text": [
      "Variable 'x' is [1, 2, 3]\n",
      "==================================\n",
      "Variable 'list_var' is [1, 2, 3]\n"
     ]
    }
   ],
   "source": [
    "print(f\"Variable 'x' is {x}\")\n",
    "print(separator)\n",
    "print(f\"Variable 'list_var' is {list_var}\")"
   ]
  },
  {
   "cell_type": "markdown",
   "id": "97e564da",
   "metadata": {},
   "source": [
    "Since they are pointing to the same object. Changing `x` means that `list_var` would also get changed."
   ]
  },
  {
   "cell_type": "code",
   "execution_count": 68,
   "id": "0c350947-2905-4063-89f7-e4b94eb62668",
   "metadata": {},
   "outputs": [
    {
     "name": "stdout",
     "output_type": "stream",
     "text": [
      "==================================\n",
      "[1, 2, 1]\n"
     ]
    }
   ],
   "source": [
    "x[2] = 1 # Editing x[1] means editing the object list_var was pointing to\n",
    "print(separator)\n",
    "print(list_var) #As expected list_var is edited too!!"
   ]
  },
  {
   "cell_type": "markdown",
   "id": "6a2aafa9",
   "metadata": {},
   "source": [
    "However, if we change `x` to now point to another object, say the number 300. It no longer points to `[1,2,1]` and any change thereafter would not affect `list_var`"
   ]
  },
  {
   "cell_type": "code",
   "execution_count": 69,
   "id": "0aa8dd4e-1675-477a-bbac-6eefccc46e1f",
   "metadata": {},
   "outputs": [
    {
     "name": "stdout",
     "output_type": "stream",
     "text": [
      "2185837222032\n",
      "Is x pointing to list_var?: False\n",
      "2185841263360\n"
     ]
    }
   ],
   "source": [
    "x = 300 #Lets change x completely to something new, now it is pointing to a new object\n",
    "print(id(x))\n",
    "\n",
    "print(f\"Is x pointing to list_var?: {id(x)==id(list_var)}\")\n",
    "# Let us now make x a list again\n",
    "x = [1, 2, 3]\n",
    "print(id(x))"
   ]
  },
  {
   "cell_type": "code",
   "execution_count": 70,
   "id": "f4d8bd77-c310-4d9d-9ef8-959130e62e7a",
   "metadata": {},
   "outputs": [
    {
     "data": {
      "text/plain": [
       "[1, 2, 1]"
      ]
     },
     "execution_count": 70,
     "metadata": {},
     "output_type": "execute_result"
    }
   ],
   "source": [
    "list_var # list_var stays to the previous change"
   ]
  },
  {
   "cell_type": "code",
   "execution_count": 71,
   "id": "9d7d3f79",
   "metadata": {},
   "outputs": [],
   "source": [
    "# We reset list_var to original value now\n",
    "list_var = [1, 2, 3] #list"
   ]
  },
  {
   "cell_type": "markdown",
   "id": "48bcf150",
   "metadata": {},
   "source": [
    "### Subscriptable Objects\n",
    "Python has a concept of subscriptable objects. These are objects are those whose element you can access using their `index`. \n",
    "\n",
    "`string`, `list`, `dict`, `tuple` (and more complex data types like array) are subscriptable\n",
    "\n",
    "`int`, `float`, `bool`, `complex`, `set` and `frozenset` are not subscriptable"
   ]
  },
  {
   "cell_type": "code",
   "execution_count": 72,
   "id": "20c95809",
   "metadata": {},
   "outputs": [
    {
     "name": "stdout",
     "output_type": "stream",
     "text": [
      "Accessing first element of string 'John': J\n",
      "Accessing first element of list '[1, 2, 3]': 1\n",
      "Accessing first element of dict '{'name': 'John', 'age': 27}': John\n",
      "Accessing first element of range 'range(1, 10)': 1\n",
      "Accessing first element of tuple '(1, 2)': 1\n"
     ]
    }
   ],
   "source": [
    "print(f\"Accessing first element of string '{str_var}': {str_var[0]}\")\n",
    "print(f\"Accessing first element of list '{list_var}': {list_var[0]}\")\n",
    "print(f\"Accessing first element of dict '{dict_var}': {dict_var['name']}\")\n",
    "print(f\"Accessing first element of range '{range_var}': {range_var[0]}\")\n",
    "print(f\"Accessing first element of tuple '{tuple_var}': {tuple_var[0]}\")"
   ]
  },
  {
   "cell_type": "code",
   "execution_count": 73,
   "id": "fb7a4afb",
   "metadata": {},
   "outputs": [
    {
     "ename": "TypeError",
     "evalue": "'set' object is not subscriptable",
     "output_type": "error",
     "traceback": [
      "\u001b[1;31m---------------------------------------------------------------------------\u001b[0m",
      "\u001b[1;31mTypeError\u001b[0m                                 Traceback (most recent call last)",
      "Cell \u001b[1;32mIn [73], line 1\u001b[0m\n\u001b[1;32m----> 1\u001b[0m set_var[\u001b[39m0\u001b[39;49m]\n\u001b[0;32m      2\u001b[0m \u001b[39m# Similarly for bool, complex, float, int, frozenset\u001b[39;00m\n\u001b[0;32m      3\u001b[0m \u001b[39m# Can check by trying to access the first element of the above variables\u001b[39;00m\n",
      "\u001b[1;31mTypeError\u001b[0m: 'set' object is not subscriptable"
     ]
    }
   ],
   "source": [
    "set_var[0]\n",
    "# Similarly for bool, complex, float, int, frozenset\n",
    "# Can check by trying to access the first element of the above variables"
   ]
  },
  {
   "cell_type": "markdown",
   "id": "6497db74",
   "metadata": {},
   "source": [
    "### Note:\n",
    "Set and frozenset can only contain unique values\n",
    "\n",
    "Further, once a frozenset is created you cannot add another value to the frozenset"
   ]
  },
  {
   "cell_type": "code",
   "execution_count": 74,
   "id": "2e10e21f",
   "metadata": {},
   "outputs": [
    {
     "name": "stdout",
     "output_type": "stream",
     "text": [
      "set a: {1, 2, 3}\n",
      "==================================\n",
      "set b: frozenset({1, 2, 3, 4, 5})\n",
      "==================================\n",
      "set 'a' with added element: {1, 2, 3, 4}\n"
     ]
    }
   ],
   "source": [
    "a = {1, 1, 2, 3}\n",
    "print(f\"set a: {a}\") # Since a is set the repeated 1 values are converted to single value\n",
    "print(separator)\n",
    "\n",
    "b = frozenset({1, 2, 3, 3, 4, 5})\n",
    "print(f\"set b: {b}\") # Since b is set the repeated 3 values are converted to single value\n",
    "print(separator)\n",
    "\n",
    "# Let us add an element to the set a\n",
    "a.add(4)\n",
    "print(f\"set 'a' with added element: {a}\")"
   ]
  },
  {
   "cell_type": "code",
   "execution_count": 75,
   "id": "9301c6b9",
   "metadata": {},
   "outputs": [
    {
     "ename": "AttributeError",
     "evalue": "'frozenset' object has no attribute 'add'",
     "output_type": "error",
     "traceback": [
      "\u001b[1;31m---------------------------------------------------------------------------\u001b[0m",
      "\u001b[1;31mAttributeError\u001b[0m                            Traceback (most recent call last)",
      "Cell \u001b[1;32mIn [75], line 2\u001b[0m\n\u001b[0;32m      1\u001b[0m \u001b[39m# Cannot add to the frozen set\u001b[39;00m\n\u001b[1;32m----> 2\u001b[0m b \u001b[39m=\u001b[39m b\u001b[39m.\u001b[39;49madd(\u001b[39m6\u001b[39m)\n",
      "\u001b[1;31mAttributeError\u001b[0m: 'frozenset' object has no attribute 'add'"
     ]
    }
   ],
   "source": [
    "# Cannot add to the frozen set\n",
    "b = b.add(6)"
   ]
  },
  {
   "cell_type": "markdown",
   "id": "8c61851f",
   "metadata": {},
   "source": [
    "### Mutable and Immutable objects\n",
    "Python has a further concept of mutable and immutable objects for objects which are subscriptable\n",
    "\n",
    "mutable $\\rightarrow$ You can change the assignment\n",
    "\n",
    "immutable $\\rightarrow$ You cannot change the assigment\n",
    "\n",
    "- `List`, `dict` $\\rightarrow$ Mutable\n",
    "- `tuple`, `string` $\\rightarrow$ Immutable"
   ]
  },
  {
   "cell_type": "code",
   "execution_count": 76,
   "id": "3abad9b2",
   "metadata": {},
   "outputs": [
    {
     "name": "stdout",
     "output_type": "stream",
     "text": [
      "[1, 2, 3] Original list_var\n",
      "[1, 10, 3] Changed list_var\n",
      "==================================\n",
      "{'name': 'John', 'age': 27} Original dict_var\n",
      "{'name': 'Vivek', 'age': 29} Changed dict_var\n",
      "==================================\n"
     ]
    }
   ],
   "source": [
    "print(list_var, \"Original list_var\")\n",
    "list_var[1] = 10\n",
    "print(list_var, \"Changed list_var\")\n",
    "print(separator)\n",
    "\n",
    "print(dict_var, \"Original dict_var\")\n",
    "dict_var[\"name\"] = \"Vivek\"\n",
    "dict_var[\"age\"] = 29\n",
    "print(dict_var, \"Changed dict_var\")\n",
    "print(separator)"
   ]
  },
  {
   "cell_type": "code",
   "execution_count": 77,
   "id": "e17a0aba",
   "metadata": {},
   "outputs": [
    {
     "name": "stdout",
     "output_type": "stream",
     "text": [
      "J is first Element\n",
      "==================================\n"
     ]
    },
    {
     "ename": "TypeError",
     "evalue": "'str' object does not support item assignment",
     "output_type": "error",
     "traceback": [
      "\u001b[1;31m---------------------------------------------------------------------------\u001b[0m",
      "\u001b[1;31mTypeError\u001b[0m                                 Traceback (most recent call last)",
      "Cell \u001b[1;32mIn [77], line 6\u001b[0m\n\u001b[0;32m      4\u001b[0m \u001b[39mprint\u001b[39m(\u001b[39mf\u001b[39m\u001b[39m\"\u001b[39m\u001b[39m{\u001b[39;00mstr_var[\u001b[39m0\u001b[39m]\u001b[39m}\u001b[39;00m\u001b[39m is first Element\u001b[39m\u001b[39m\"\u001b[39m)\n\u001b[0;32m      5\u001b[0m \u001b[39mprint\u001b[39m(separator)\n\u001b[1;32m----> 6\u001b[0m str_var[\u001b[39m0\u001b[39;49m] \u001b[39m=\u001b[39m \u001b[39m\"\u001b[39m\u001b[39mV\u001b[39m\u001b[39m\"\u001b[39m \u001b[39m# Cannot change first element\u001b[39;00m\n",
      "\u001b[1;31mTypeError\u001b[0m: 'str' object does not support item assignment"
     ]
    }
   ],
   "source": [
    "# These changes are not allowed\n",
    "# Cannot change string element assignement\n",
    "# Access first element of string\n",
    "print(f\"{str_var[0]} is first Element\")\n",
    "print(separator)\n",
    "str_var[0] = \"V\" # Cannot change first element"
   ]
  },
  {
   "cell_type": "code",
   "execution_count": 78,
   "id": "03061a6c",
   "metadata": {},
   "outputs": [
    {
     "name": "stdout",
     "output_type": "stream",
     "text": [
      "1 is first Element\n",
      "==================================\n"
     ]
    },
    {
     "ename": "TypeError",
     "evalue": "'tuple' object does not support item assignment",
     "output_type": "error",
     "traceback": [
      "\u001b[1;31m---------------------------------------------------------------------------\u001b[0m",
      "\u001b[1;31mTypeError\u001b[0m                                 Traceback (most recent call last)",
      "Cell \u001b[1;32mIn [78], line 5\u001b[0m\n\u001b[0;32m      3\u001b[0m \u001b[39mprint\u001b[39m(\u001b[39mf\u001b[39m\u001b[39m\"\u001b[39m\u001b[39m{\u001b[39;00mtuple_var[\u001b[39m0\u001b[39m]\u001b[39m}\u001b[39;00m\u001b[39m is first Element\u001b[39m\u001b[39m\"\u001b[39m)\n\u001b[0;32m      4\u001b[0m \u001b[39mprint\u001b[39m(separator)\n\u001b[1;32m----> 5\u001b[0m tuple_var[\u001b[39m0\u001b[39;49m] \u001b[39m=\u001b[39m \u001b[39m10\u001b[39m \u001b[39m# Cannot change first element\u001b[39;00m\n",
      "\u001b[1;31mTypeError\u001b[0m: 'tuple' object does not support item assignment"
     ]
    }
   ],
   "source": [
    "# Cannot change assignment of tuples\n",
    "# Access first element of tuple\n",
    "print(f\"{tuple_var[0]} is first Element\")\n",
    "print(separator)\n",
    "tuple_var[0] = 10 # Cannot change first element"
   ]
  },
  {
   "cell_type": "markdown",
   "id": "592f101b-461c-49dd-b632-716984bc09be",
   "metadata": {},
   "source": [
    "### Loops: For, While"
   ]
  },
  {
   "cell_type": "code",
   "execution_count": 79,
   "id": "13d4b695",
   "metadata": {},
   "outputs": [
    {
     "name": "stdout",
     "output_type": "stream",
     "text": [
      "0\n",
      "1\n",
      "4\n",
      "9\n",
      "16\n",
      "25\n",
      "36\n",
      "49\n",
      "64\n",
      "81\n",
      "==================================\n",
      "25\n",
      "36\n",
      "49\n",
      "64\n",
      "81\n",
      "==================================\n",
      "25\n",
      "==================================\n",
      "81\n",
      "64\n",
      "49\n",
      "36\n",
      "25\n",
      "16\n",
      "9\n",
      "4\n",
      "1\n",
      "0\n"
     ]
    }
   ],
   "source": [
    "\"\"\"\n",
    "Python for loops\n",
    "\n",
    "for i in range(j,k, l) ~ for(int i = j, i< k, i=i+l){} in C++\n",
    "\n",
    "default value of j = 0\n",
    "default value of l = 1\n",
    "\"\"\"\n",
    "\n",
    "for i in range(10):\n",
    "  print(i**2)\n",
    "  # Print i squared for i from 0 to 9  with step size of 1\n",
    "\n",
    "print(separator)\n",
    "\n",
    "for i in range(5, 10):\n",
    "  print(i**2)\n",
    "  # Print i squared for i from 5 to 9 with step size of 1\n",
    "\n",
    "print(separator)\n",
    "for i in range(5, 10, 5):\n",
    "  print(i**2)\n",
    "  # Print i squared for i from 5 to 9 with step size of 5\n",
    "\n",
    "print(separator)\n",
    "for i in range(9, -1, -1):\n",
    "  print(i**2)\n",
    "  # Print i squared for i from 9 to 0 with step size of -1"
   ]
  },
  {
   "cell_type": "code",
   "execution_count": 80,
   "id": "4fc51431-1308-4858-8abe-883bbe3364df",
   "metadata": {},
   "outputs": [
    {
     "name": "stdout",
     "output_type": "stream",
     "text": [
      "1\n",
      "10\n",
      "3\n",
      "==================================\n",
      "1\n",
      "2\n",
      "==================================\n",
      "name ':' Vivek\n",
      "age ':' 29\n"
     ]
    }
   ],
   "source": [
    "\"\"\"\n",
    "In python, if an object/variable is subscriptable you can iterate over them in a loop.\n",
    "\n",
    "So you can access the element for those elements in a loop\n",
    "List, dict, tuple (arrays in future) are objects over which you can iterate\n",
    "\"\"\"\n",
    "\n",
    "for i in list_var:\n",
    "  \"\"\"\n",
    "  This is the same as this code\n",
    "  len_list = len(list_var) # Get the length of the list\n",
    "  for i in range(len_list):\n",
    "    print(list_var[i])\n",
    "  \"\"\"\n",
    "  # Loop over all the elements of the list and print the ith element\n",
    "  print(i)\n",
    "print(separator)\n",
    "\n",
    "for i in tuple_var:\n",
    "  # Loop over all the elements of the tuple and print the ith element\n",
    "  print(i)\n",
    "print(separator)\n",
    "\n",
    "for key, value in dict_var.items():\n",
    "  # Loop over all the elements of the dict and print the key, value pair\n",
    "  print(f\"{key} ':' {value}\")"
   ]
  },
  {
   "cell_type": "code",
   "execution_count": 84,
   "id": "e01e5c60-8d30-4863-801f-0cba69ef3bdc",
   "metadata": {},
   "outputs": [
    {
     "name": "stdout",
     "output_type": "stream",
     "text": [
      "The 0 element is 1\n",
      "The 1 element is 10\n",
      "The 2 element is 3\n"
     ]
    }
   ],
   "source": [
    "\"\"\"\n",
    "Python also supports something called an enumerator object. Basically it creats a\n",
    "tuple of index value pair from a subscriptable object\n",
    "\"\"\"\n",
    "\n",
    "# Enumerating list object\n",
    "for idx, value in enumerate(list_var):\n",
    "  print(f\"The {idx} element is {value}\")"
   ]
  },
  {
   "cell_type": "code",
   "execution_count": 85,
   "id": "86224023",
   "metadata": {},
   "outputs": [
    {
     "name": "stdout",
     "output_type": "stream",
     "text": [
      "The 0 element is 1\n",
      "The 1 element is 2\n"
     ]
    }
   ],
   "source": [
    "# Enumerating tuple object\n",
    "for idx, value in enumerate(tuple_var):\n",
    "  print(f\"The {idx} element is {value}\")"
   ]
  },
  {
   "cell_type": "code",
   "execution_count": 86,
   "id": "b1fce14b",
   "metadata": {},
   "outputs": [
    {
     "name": "stdout",
     "output_type": "stream",
     "text": [
      "The 0 element is name : Vivek\n",
      "The 1 element is age : 29\n"
     ]
    }
   ],
   "source": [
    "# Enumerating dict object\n",
    "for idx, (key, value) in enumerate(dict_var.items()):\n",
    "  print(f\"The {idx} element is {key} : {value}\")"
   ]
  },
  {
   "cell_type": "code",
   "execution_count": 87,
   "id": "d67d6bbb-d8ad-49ef-b3e2-643719b75e81",
   "metadata": {},
   "outputs": [
    {
     "name": "stdout",
     "output_type": "stream",
     "text": [
      "10\n",
      "9\n",
      "8\n",
      "7\n",
      "6\n",
      "5\n",
      "4\n",
      "3\n",
      "2\n",
      "1\n"
     ]
    }
   ],
   "source": [
    "\"\"\"\n",
    "Python while loop\n",
    "\n",
    "while(condition == True){DO SOMETHING -> TEST CONDITION}\n",
    "\"\"\"\n",
    "i = 10\n",
    "while(i > 0):\n",
    "  print(i)\n",
    "  i = i-1\n",
    "  # Print 10 to 1"
   ]
  },
  {
   "cell_type": "markdown",
   "id": "164f81f6-2e87-445f-8be2-cfaf06c4b96f",
   "metadata": {},
   "source": [
    "### Conditional Statements: If-else"
   ]
  },
  {
   "cell_type": "code",
   "execution_count": 89,
   "id": "7ca0b95d-7ee8-4cdc-b776-9f10b0e8312d",
   "metadata": {},
   "outputs": [
    {
     "name": "stdout",
     "output_type": "stream",
     "text": [
      "Condition was true\n",
      "==================================\n",
      "Condition was true\n",
      "==================================\n",
      "Condition was false\n",
      "==================================\n",
      "0 is even\n",
      "1 is odd\n",
      "2 is even\n",
      "3 is odd\n",
      "4 is even\n",
      "5 is odd\n",
      "6 is even\n",
      "7 is odd\n",
      "8 is even\n",
      "9 is odd\n",
      "==================================\n"
     ]
    }
   ],
   "source": [
    "\"\"\"\n",
    "Conditional statements\n",
    "if, elif, else. Check for a certain condition==True, do something else do something\n",
    "else\n",
    "\"\"\"\n",
    "\n",
    "condition = True\n",
    "if condition:\n",
    "  print(\"Condition was true\")\n",
    "else:\n",
    "  print(\"Condition was not true\")\n",
    "print(separator)\n",
    "\n",
    "condition = 5 > 1\n",
    "if condition:\n",
    "  print(\"Condition was true\")\n",
    "else:\n",
    "  print(\"Condition was false\")\n",
    "print(separator)\n",
    "\n",
    "condition = 1 > 5\n",
    "if condition:\n",
    "  print(\"Condition was true\")\n",
    "else:\n",
    "  print(\"Condition was false\")\n",
    "print(separator)\n",
    "\n",
    "# Check for condition in a loop\n",
    "for i in range(10):\n",
    "  if i % 2 ==0: # This is the modulo operator, which returns the remainder of the division\n",
    "    print(f\"{i} is even\")\n",
    "  else:\n",
    "    print(f\"{i} is odd\")\n",
    "print(separator)"
   ]
  },
  {
   "cell_type": "code",
   "execution_count": 90,
   "id": "78a58d96",
   "metadata": {},
   "outputs": [
    {
     "name": "stdout",
     "output_type": "stream",
     "text": [
      "3: fizz\n",
      "5: buzz\n",
      "6: fizz\n",
      "9: fizz\n",
      "10: buzz\n",
      "12: fizz\n",
      "15: fizzbuzz\n",
      "18: fizz\n",
      "20: buzz\n",
      "21: fizz\n",
      "24: fizz\n",
      "25: buzz\n",
      "27: fizz\n",
      "30: fizzbuzz\n",
      "33: fizz\n",
      "35: buzz\n",
      "36: fizz\n",
      "39: fizz\n",
      "40: buzz\n",
      "42: fizz\n",
      "45: fizzbuzz\n",
      "48: fizz\n",
      "50: buzz\n",
      "51: fizz\n",
      "54: fizz\n",
      "55: buzz\n",
      "57: fizz\n",
      "60: fizzbuzz\n",
      "63: fizz\n",
      "65: buzz\n",
      "66: fizz\n",
      "69: fizz\n",
      "70: buzz\n",
      "72: fizz\n",
      "75: fizzbuzz\n",
      "78: fizz\n",
      "80: buzz\n",
      "81: fizz\n",
      "84: fizz\n",
      "85: buzz\n",
      "87: fizz\n",
      "90: fizzbuzz\n",
      "93: fizz\n",
      "95: buzz\n",
      "96: fizz\n",
      "99: fizz\n",
      "100: buzz\n"
     ]
    }
   ],
   "source": [
    "\"\"\"\n",
    "Loop over all the numbers from 1 to 100, print fizz if number is divible by 3, print\n",
    "buzz if the number is divisble by 5, print fizzbuzz if number is divisible by 15\n",
    "\"\"\"\n",
    "for i in range(1, 101):\n",
    "  if (i % 15 == 0):\n",
    "    print(f\"{i}: fizzbuzz\")\n",
    "  elif (i % 3 == 0):\n",
    "    print(f\"{i}: fizz\")\n",
    "  elif (i % 5 == 0):\n",
    "    print(f\"{i}: buzz\")"
   ]
  },
  {
   "cell_type": "markdown",
   "id": "2fb948f7-05a7-4b44-bcdb-b5b571d8f853",
   "metadata": {},
   "source": [
    "### Control-Flow Statements"
   ]
  },
  {
   "cell_type": "code",
   "execution_count": 91,
   "id": "21fbf3d2-4524-4c77-8347-e5afdacfcbd0",
   "metadata": {},
   "outputs": [
    {
     "name": "stdout",
     "output_type": "stream",
     "text": [
      "1\n",
      "2\n",
      "4\n",
      "5\n",
      "7\n",
      "8\n",
      "10\n"
     ]
    }
   ],
   "source": [
    "\"\"\"\n",
    "Control Flow Statments\n",
    "\n",
    "The for-loop and while loop need not run their full course. You can control their\n",
    "flow using if-else, break, continue, return\n",
    "\"\"\"\n",
    "\n",
    "# Loop upto 10, print numbers skipping multiples of 3\n",
    "for i in range(1, 11):\n",
    "  if i % 3 == 0:\n",
    "    continue\n",
    "    # This skips everything below continue and jumps to the loop\n",
    "  print(i)"
   ]
  },
  {
   "cell_type": "code",
   "execution_count": 95,
   "id": "e5ad4315-f20e-47bb-81b0-40f4e3d93afc",
   "metadata": {},
   "outputs": [
    {
     "name": "stdout",
     "output_type": "stream",
     "text": [
      "Number: 1, Number Squared: 1\n",
      "Number: 2, Number Squared: 4\n",
      "Number: 3, Number Squared: 9\n",
      "Number: 4, Number Squared: 16\n",
      "Number: 5, Number Squared: 25\n",
      "Number: 6, Number Squared: 36\n",
      "Number: 7, Number Squared: 49\n"
     ]
    }
   ],
   "source": [
    "# Loop upto 10, if squared i > 50, break out of the loop\n",
    "for i in range(1, 11):\n",
    "  if i**2 > 50: # This is the square operator. Kind of like multiply twice **\n",
    "    break\n",
    "    # This breaks out of the loop once the condition is satisfied\n",
    "  print(f\"Number: {i}, Number Squared: {i**2}\")"
   ]
  },
  {
   "cell_type": "code",
   "execution_count": 97,
   "id": "33b72b0c",
   "metadata": {},
   "outputs": [],
   "source": [
    "\"\"\"\n",
    "Write a function for the above and return the largest integer whose square is\n",
    "less than 50. You can break the loop using return. This returns the value for the function\n",
    "\"\"\"\n",
    "def square_less_than_50():\n",
    "  for i in range(1, 11):\n",
    "    if i**2 > 50:\n",
    "      # Return the integer whose square was less than 50, which is 1 less than the\n",
    "      # current integer i and exit the function\n",
    "      return i-1"
   ]
  },
  {
   "cell_type": "code",
   "execution_count": 98,
   "id": "4d8ad870",
   "metadata": {},
   "outputs": [
    {
     "name": "stdout",
     "output_type": "stream",
     "text": [
      "7\n"
     ]
    }
   ],
   "source": [
    "n = square_less_than_50()\n",
    "# n is called the return value\n",
    "print(n)"
   ]
  },
  {
   "cell_type": "code",
   "execution_count": null,
   "id": "d9039047",
   "metadata": {},
   "outputs": [],
   "source": []
  }
 ],
 "metadata": {
  "kernelspec": {
   "display_name": "Python 3.10.8 ('.venv': venv)",
   "language": "python",
   "name": "python3"
  },
  "language_info": {
   "codemirror_mode": {
    "name": "ipython",
    "version": 3
   },
   "file_extension": ".py",
   "mimetype": "text/x-python",
   "name": "python",
   "nbconvert_exporter": "python",
   "pygments_lexer": "ipython3",
   "version": "3.10.8"
  },
  "vscode": {
   "interpreter": {
    "hash": "3c89ab65b7a02956f3010b5abf1fe29704c9550925662b291cbeca0898b136ee"
   }
  }
 },
 "nbformat": 4,
 "nbformat_minor": 5
}
