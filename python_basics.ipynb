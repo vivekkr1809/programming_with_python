{
 "cells": [
  {
   "cell_type": "markdown",
   "id": "4923962d",
   "metadata": {},
   "source": [
    "### Introduction to Python Programming"
   ]
  },
  {
   "cell_type": "markdown",
   "id": "168f0b4f-d754-4a1c-85ff-e398960a1b06",
   "metadata": {},
   "source": [
    "In this notebook we cover the basics of Python Programming and discuss the following:\n",
    "- Variables\n",
    "- if, elif, else\n",
    "- for, while\n",
    "- functions"
   ]
  },
  {
   "cell_type": "markdown",
   "id": "8a8f8034-a697-468a-b5d1-9e9aedf9a654",
   "metadata": {},
   "source": [
    "### Variables\n",
    "In python variables are not declared like C++, but are simply defined at assignment and the type is infered. Further, the variable is not pointing to a value, it is pointing to an object. A Python variable is a symbolic name that is a reference or pointer to an object. Once an object is assigned to a variable, you can refer to the object by that name. But the data itself is still contained within the object."
   ]
  },
  {
   "cell_type": "code",
   "execution_count": 7,
   "id": "06ff2326",
   "metadata": {},
   "outputs": [],
   "source": [
    "# Some utility functions/definitions\n",
    "# Not relevant for learning. Only for making my life easier\n",
    "def print_var_type(var, name:str):\n",
    "  print(f\"{name} is of type {type(var)}\")\n",
    "\n",
    "separator = \"==================================\""
   ]
  },
  {
   "cell_type": "code",
   "execution_count": 22,
   "id": "d362d6ff-0997-4d15-a17a-3b30df6b3d63",
   "metadata": {},
   "outputs": [
    {
     "name": "stdout",
     "output_type": "stream",
     "text": [
      "John is of type <class 'str'>\n",
      "int_var is of type <class 'int'>\n",
      "float_var is of type <class 'float'>\n",
      "complex_var is of type <class 'complex'>\n",
      "list_var is of type <class 'list'>\n",
      "tuple_var is of type <class 'tuple'>\n",
      "range_var is of type <class 'range'>\n",
      "dict_var is of type <class 'dict'>\n",
      "set_var is of type <class 'set'>\n",
      "frozen_set_var is of type <class 'frozenset'>\n",
      "bool_var is of type <class 'bool'>\n"
     ]
    }
   ],
   "source": [
    "\"\"\"\n",
    "Python basic data types\n",
    "\"\"\"\n",
    "str_var = \"John\" #string <str>\n",
    "# Check data type using type()\n",
    "print(f\"{str_var} is of type {type(str_var)}\")\n",
    "\n",
    "int_var = 10 # int\n",
    "print_var_type(int_var, \"int_var\")\n",
    "\n",
    "float_var = 1.3 #float\n",
    "print_var_type(float_var, \"float_var\")\n",
    "\n",
    "complex_var = 1.0+1.0j\n",
    "print_var_type(complex_var, \"complex_var\")\n",
    "\n",
    "list_var = [1, 2, 3] #list\n",
    "print_var_type(list_var, \"list_var\")\n",
    "\n",
    "tuple_var = (1,2)\n",
    "print_var_type(tuple_var, \"tuple_var\")\n",
    "\n",
    "range_var = range(1,10) # This is [1, 2, 3, 4, 5, 6, 7, 8, 9].\n",
    "print_var_type(range_var, \"range_var\")\n",
    "\n",
    "dict_var = {\"name\": \"John\", \"age\": 27} #dictionary\n",
    "print_var_type(dict_var, \"dict_var\")\n",
    "\n",
    "set_var = {1, 2, 3}\n",
    "print_var_type(set_var, \"set_var\")\n",
    "\n",
    "frozen_set_var = frozenset({1, 2, 3})\n",
    "print_var_type(frozen_set_var, \"frozen_set_var\")\n",
    "\n",
    "bool_var = True\n",
    "print_var_type(bool_var, \"bool_var\")"
   ]
  },
  {
   "cell_type": "markdown",
   "id": "1d0b06c1",
   "metadata": {},
   "source": [
    "Let us look at what it means that the variable is pointing to the object and is not an object itself. Lets say we create a new variable `x` which _equals_ `list_var`. What happens under the hood is that the variable `x` is now pointing to the same object that `list_var` was pointing to. And the object `[1,2,3]` has now two references"
   ]
  },
  {
   "cell_type": "code",
   "execution_count": 23,
   "id": "6226178f-48ba-4743-905c-8bb2a0b541ae",
   "metadata": {},
   "outputs": [
    {
     "name": "stdout",
     "output_type": "stream",
     "text": [
      "2185834956864\n"
     ]
    }
   ],
   "source": [
    "x = list_var\n",
    "id(x)==id(list_var)\n",
    "print(id(x))\n",
    "# The variables x and var_5 are pointing to the same object"
   ]
  },
  {
   "cell_type": "code",
   "execution_count": 24,
   "id": "2ae66877",
   "metadata": {},
   "outputs": [
    {
     "name": "stdout",
     "output_type": "stream",
     "text": [
      "Variable 'x' is [1, 2, 3]\n",
      "==================================\n",
      "Variable 'list_var' is [1, 2, 3]\n"
     ]
    }
   ],
   "source": [
    "print(f\"Variable 'x' is {x}\")\n",
    "print(separator)\n",
    "print(f\"Variable 'list_var' is {list_var}\")"
   ]
  },
  {
   "cell_type": "markdown",
   "id": "97e564da",
   "metadata": {},
   "source": [
    "Since they are pointing to the same object. Changing `x` means that `list_var` would also get changed."
   ]
  },
  {
   "cell_type": "code",
   "execution_count": 25,
   "id": "0c350947-2905-4063-89f7-e4b94eb62668",
   "metadata": {},
   "outputs": [
    {
     "name": "stdout",
     "output_type": "stream",
     "text": [
      "==================================\n",
      "[1, 2, 1]\n"
     ]
    }
   ],
   "source": [
    "x[2] = 1 # Editing x[1] means editing the object list_var was pointing to\n",
    "print(separator)\n",
    "print(list_var) #As expected list_var is edited too!!"
   ]
  },
  {
   "cell_type": "code",
   "execution_count": 29,
   "id": "0aa8dd4e-1675-477a-bbac-6eefccc46e1f",
   "metadata": {},
   "outputs": [
    {
     "name": "stdout",
     "output_type": "stream",
     "text": [
      "2185839467056\n",
      "Is x pointing to list_var?: False\n"
     ]
    }
   ],
   "source": [
    "x = 300 #Lets change x completely to something new, now it is pointing to a new object\n",
    "print(id(x))\n",
    "\n",
    "print(f\"Is x pointing to list_var?: {id(x)==id(list_var)}\")\n"
   ]
  },
  {
   "cell_type": "code",
   "execution_count": 31,
   "id": "f4d8bd77-c310-4d9d-9ef8-959130e62e7a",
   "metadata": {},
   "outputs": [
    {
     "data": {
      "text/plain": [
       "[1, 2, 1]"
      ]
     },
     "execution_count": 31,
     "metadata": {},
     "output_type": "execute_result"
    }
   ],
   "source": [
    "list_var # list_var stays to the previous change"
   ]
  },
  {
   "cell_type": "markdown",
   "id": "592f101b-461c-49dd-b632-716984bc09be",
   "metadata": {},
   "source": [
    "### Loops: For, While"
   ]
  },
  {
   "cell_type": "code",
   "execution_count": 43,
   "id": "4fc51431-1308-4858-8abe-883bbe3364df",
   "metadata": {},
   "outputs": [
    {
     "name": "stdout",
     "output_type": "stream",
     "text": [
      "0\n",
      "1\n",
      "2\n",
      "3\n",
      "4\n",
      "5\n",
      "6\n",
      "7\n",
      "8\n",
      "9\n"
     ]
    }
   ],
   "source": [
    "# Loops\n",
    "for i in range(10): # Same as for(int i=0, i < 10, i++) in c++\n",
    "    print(i)"
   ]
  },
  {
   "cell_type": "code",
   "execution_count": 68,
   "id": "e01e5c60-8d30-4863-801f-0cba69ef3bdc",
   "metadata": {},
   "outputs": [
    {
     "name": "stdout",
     "output_type": "stream",
     "text": [
      "10\n",
      "11\n",
      "12\n",
      "13\n",
      "14\n",
      "15\n",
      "16\n",
      "17\n",
      "18\n",
      "19\n"
     ]
    }
   ],
   "source": [
    "for i in range(10,20):\n",
    "    print(i)"
   ]
  },
  {
   "cell_type": "code",
   "execution_count": 71,
   "id": "d67d6bbb-d8ad-49ef-b3e2-643719b75e81",
   "metadata": {},
   "outputs": [
    {
     "name": "stdout",
     "output_type": "stream",
     "text": [
      "1\n",
      "4\n",
      "25\n",
      "676\n",
      "458329\n"
     ]
    }
   ],
   "source": [
    "i = 0\n",
    "while (True):\n",
    "    i = (i+1)**2\n",
    "    print(i)\n",
    "    if i > 1000: # Conditional statement to exit the while\n",
    "        break #This is a control flow loop"
   ]
  },
  {
   "cell_type": "markdown",
   "id": "164f81f6-2e87-445f-8be2-cfaf06c4b96f",
   "metadata": {},
   "source": [
    "### Conditional Statements: If-else"
   ]
  },
  {
   "cell_type": "code",
   "execution_count": 70,
   "id": "7ca0b95d-7ee8-4cdc-b776-9f10b0e8312d",
   "metadata": {},
   "outputs": [
    {
     "name": "stdout",
     "output_type": "stream",
     "text": [
      "11 is greater than 10 but 11 is less than 20\n",
      "12 is greater than 10 but 12 is less than 20\n",
      "13 is greater than 10 but 13 is less than 20\n",
      "14 is greater than 10 but 14 is less than 20\n",
      "15 is greater than 10 but 15 is less than 20\n",
      "16 is greater than 10 but 16 is less than 20\n",
      "17 is greater than 10 but 17 is less than 20\n",
      "18 is greater than 10 but 18 is less than 20\n",
      "19 is greater than 10 but 19 is less than 20\n",
      "21 is greater than than 20\n"
     ]
    }
   ],
   "source": [
    "for i in range(100):\n",
    "    if (i > 10) & (i<20):\n",
    "        print(\"{} is greater than 10 but {} is less than 20\".format(i, i))\n",
    "    elif (i >20):\n",
    "        print(\"{} is greater than than 20\".format(i))\n",
    "        break"
   ]
  },
  {
   "cell_type": "markdown",
   "id": "2fb948f7-05a7-4b44-bcdb-b5b571d8f853",
   "metadata": {},
   "source": [
    "### Control-Flow Statements"
   ]
  },
  {
   "cell_type": "code",
   "execution_count": 76,
   "id": "21fbf3d2-4524-4c77-8347-e5afdacfcbd0",
   "metadata": {},
   "outputs": [
    {
     "name": "stdout",
     "output_type": "stream",
     "text": [
      "-9\n",
      "-7\n",
      "-5\n",
      "-3\n",
      "-1\n",
      "1\n",
      "3\n",
      "5\n",
      "7\n",
      "9\n"
     ]
    }
   ],
   "source": [
    "for i in range(-10,11):\n",
    "    if i%2 == 0:\n",
    "        continue # When i is even, the loop goes to the next iteration skipping everything afterwards. So no even number is printed\n",
    "    print(i)"
   ]
  },
  {
   "cell_type": "code",
   "execution_count": 74,
   "id": "e5ad4315-f20e-47bb-81b0-40f4e3d93afc",
   "metadata": {},
   "outputs": [
    {
     "name": "stdout",
     "output_type": "stream",
     "text": [
      "-10\n",
      "-9\n",
      "-8\n",
      "-7\n",
      "-6\n",
      "-5\n",
      "-4\n",
      "-3\n",
      "-2\n",
      "-1\n"
     ]
    }
   ],
   "source": [
    "for i in range(-10,11):\n",
    "    if i == 0:\n",
    "        break # When i==0, the loop terminates\n",
    "    print(i)"
   ]
  },
  {
   "cell_type": "markdown",
   "id": "2797d5c6-cd5e-4967-b8e8-1ea90362d0f3",
   "metadata": {},
   "source": [
    "### Functions"
   ]
  },
  {
   "cell_type": "code",
   "execution_count": 79,
   "id": "4bc9a8ec-f8b1-4cca-9a82-f88efb564cdf",
   "metadata": {},
   "outputs": [],
   "source": [
    "# Functions\n",
    "def print_hello_world():\n",
    "    print('Hello World!')"
   ]
  },
  {
   "cell_type": "code",
   "execution_count": 80,
   "id": "105e181c-921a-451a-be89-32e3c4b349ac",
   "metadata": {},
   "outputs": [
    {
     "name": "stdout",
     "output_type": "stream",
     "text": [
      "Hello World!\n"
     ]
    }
   ],
   "source": [
    "print_hello_world()"
   ]
  },
  {
   "cell_type": "code",
   "execution_count": 105,
   "id": "b8f14f89-6c3b-4cc2-b305-8349dd42591d",
   "metadata": {},
   "outputs": [],
   "source": [
    "import math # Importing standard modules in python\n",
    "\"\"\"\n",
    "Arguments: The inputs to a functions\n",
    "Returns: The thing that function returns\n",
    "\n",
    "The type of argument and return is only good code practice. Python does not enforce them\n",
    "\"\"\"\n",
    "def check_if_square(n:int)->bool:\n",
    "    for i in range(2, int(math.sqrt(n)+1)):\n",
    "        if n%i**2 == 0:\n",
    "            print(\"{} is a perfect square\".format(n))\n",
    "            return True\n",
    "    print(\"{} is not a perfect square\".format(n))\n",
    "    return False"
   ]
  },
  {
   "cell_type": "code",
   "execution_count": 104,
   "id": "f0545d2f-2524-4d2f-ace5-ec06ebc80fef",
   "metadata": {},
   "outputs": [
    {
     "name": "stdout",
     "output_type": "stream",
     "text": [
      "323 is not a perfect square\n",
      "False\n"
     ]
    }
   ],
   "source": [
    "condition = check_if_square(323)\n",
    "print(condition)"
   ]
  },
  {
   "cell_type": "code",
   "execution_count": 120,
   "id": "3efb117b-b030-4899-b444-fadc1664d43b",
   "metadata": {},
   "outputs": [
    {
     "ename": "TypeError",
     "evalue": "must be real number, not str",
     "output_type": "error",
     "traceback": [
      "\u001b[0;31m---------------------------------------------------------------------------\u001b[0m",
      "\u001b[0;31mTypeError\u001b[0m                                 Traceback (most recent call last)",
      "Cell \u001b[0;32mIn [120], line 1\u001b[0m\n\u001b[0;32m----> 1\u001b[0m condition \u001b[38;5;241m=\u001b[39m \u001b[43mcheck_if_square\u001b[49m\u001b[43m(\u001b[49m\u001b[38;5;124;43m\"\u001b[39;49m\u001b[38;5;124;43msad\u001b[39;49m\u001b[38;5;124;43m\"\u001b[39;49m\u001b[43m)\u001b[49m \u001b[38;5;66;03m# Note that python did not complain that the arguments do not match to the input expected argument\u001b[39;00m\n\u001b[1;32m      2\u001b[0m \u001b[38;5;28mprint\u001b[39m(condition)\n",
      "Cell \u001b[0;32mIn [105], line 9\u001b[0m, in \u001b[0;36mcheck_if_square\u001b[0;34m(n)\u001b[0m\n\u001b[1;32m      8\u001b[0m \u001b[38;5;28;01mdef\u001b[39;00m \u001b[38;5;21mcheck_if_square\u001b[39m(n:\u001b[38;5;28mint\u001b[39m)\u001b[38;5;241m-\u001b[39m\u001b[38;5;241m>\u001b[39m\u001b[38;5;28mbool\u001b[39m:\n\u001b[0;32m----> 9\u001b[0m     \u001b[38;5;28;01mfor\u001b[39;00m i \u001b[38;5;129;01min\u001b[39;00m \u001b[38;5;28mrange\u001b[39m(\u001b[38;5;241m2\u001b[39m, \u001b[38;5;28mint\u001b[39m(\u001b[43mmath\u001b[49m\u001b[38;5;241;43m.\u001b[39;49m\u001b[43msqrt\u001b[49m\u001b[43m(\u001b[49m\u001b[43mn\u001b[49m\u001b[43m)\u001b[49m\u001b[38;5;241m+\u001b[39m\u001b[38;5;241m1\u001b[39m)):\n\u001b[1;32m     10\u001b[0m         \u001b[38;5;28;01mif\u001b[39;00m n\u001b[38;5;241m%\u001b[39mi\u001b[38;5;241m*\u001b[39m\u001b[38;5;241m*\u001b[39m\u001b[38;5;241m2\u001b[39m \u001b[38;5;241m==\u001b[39m \u001b[38;5;241m0\u001b[39m:\n\u001b[1;32m     11\u001b[0m             \u001b[38;5;28mprint\u001b[39m(\u001b[38;5;124m\"\u001b[39m\u001b[38;5;132;01m{}\u001b[39;00m\u001b[38;5;124m is a perfect square\u001b[39m\u001b[38;5;124m\"\u001b[39m\u001b[38;5;241m.\u001b[39mformat(n))\n",
      "\u001b[0;31mTypeError\u001b[0m: must be real number, not str"
     ]
    }
   ],
   "source": [
    "condition = check_if_square(\"sad\") # Note that python did not complain that the arguments do not match to the input expected argument\n",
    "print(condition)"
   ]
  },
  {
   "cell_type": "code",
   "execution_count": 137,
   "id": "3e1b4934-5b9f-4e74-8e0b-2f0bf54c405c",
   "metadata": {},
   "outputs": [],
   "source": [
    "def increment_value_by_n(val:int, n:int):\n",
    "    val = val+n\n",
    "    return val"
   ]
  },
  {
   "cell_type": "code",
   "execution_count": 126,
   "id": "6b968ea2-a4f9-4fa0-933c-4986fb21c988",
   "metadata": {},
   "outputs": [
    {
     "data": {
      "text/plain": [
       "12"
      ]
     },
     "execution_count": 126,
     "metadata": {},
     "output_type": "execute_result"
    }
   ],
   "source": [
    "x = 10\n",
    "increment_value_by_n(x,2)"
   ]
  },
  {
   "cell_type": "code",
   "execution_count": 127,
   "id": "e89286d5-b16a-4b31-bfd1-63012b12f413",
   "metadata": {},
   "outputs": [
    {
     "data": {
      "text/plain": [
       "10"
      ]
     },
     "execution_count": 127,
     "metadata": {},
     "output_type": "execute_result"
    }
   ],
   "source": [
    "x\n",
    "# Note that x is passed by assignment and hence no change happens\n",
    "# Best and easiest practive in python is to reassign the variable"
   ]
  },
  {
   "cell_type": "code",
   "execution_count": 128,
   "id": "fdfbe634-104c-4429-83f6-ca5a21ae0184",
   "metadata": {},
   "outputs": [],
   "source": [
    "x = increment_value_by_n(x,2)"
   ]
  },
  {
   "cell_type": "code",
   "execution_count": 129,
   "id": "675142c3-fdb8-40ef-aacd-e85d6d50cd1b",
   "metadata": {},
   "outputs": [
    {
     "data": {
      "text/plain": [
       "12"
      ]
     },
     "execution_count": 129,
     "metadata": {},
     "output_type": "execute_result"
    }
   ],
   "source": [
    "x"
   ]
  },
  {
   "cell_type": "code",
   "execution_count": 130,
   "id": "8dfcd8f8-4d18-42e2-89e3-6b630d1a4b0d",
   "metadata": {},
   "outputs": [
    {
     "name": "stdout",
     "output_type": "stream",
     "text": [
      "14\n"
     ]
    }
   ],
   "source": [
    "print(x:= increment_value_by_n(x,2)) #The new walrus operator"
   ]
  },
  {
   "cell_type": "code",
   "execution_count": 131,
   "id": "efbfc1fe-4a8f-4fc6-81d4-34999d7f0ad4",
   "metadata": {},
   "outputs": [],
   "source": [
    "from types import SimpleNamespace\n",
    "\n",
    "nspace = SimpleNamespace()"
   ]
  },
  {
   "cell_type": "code",
   "execution_count": 132,
   "id": "03d399fd-4598-4fdd-888a-85631966d058",
   "metadata": {},
   "outputs": [],
   "source": [
    "nspace.n = 4"
   ]
  },
  {
   "cell_type": "code",
   "execution_count": 133,
   "id": "e9423a49-6eb4-4f18-b0e2-0b7701e96d10",
   "metadata": {},
   "outputs": [
    {
     "data": {
      "text/plain": [
       "namespace(n=4)"
      ]
     },
     "execution_count": 133,
     "metadata": {},
     "output_type": "execute_result"
    }
   ],
   "source": [
    "nspace"
   ]
  },
  {
   "cell_type": "code",
   "execution_count": 138,
   "id": "4c2ba731-3fd9-4ecb-8a1a-56bc733b6f18",
   "metadata": {},
   "outputs": [],
   "source": [
    "def increment_value_by_n(instance, n):\n",
    "    instance.n = instance.n+n"
   ]
  },
  {
   "cell_type": "code",
   "execution_count": 139,
   "id": "4e5f23c8-9cc0-487a-8446-1eceb6f5b38f",
   "metadata": {},
   "outputs": [],
   "source": [
    "increment_value_by_n(nspace,2)"
   ]
  },
  {
   "cell_type": "code",
   "execution_count": 140,
   "id": "765bb495-b14c-4a48-acc8-dee336d9a929",
   "metadata": {},
   "outputs": [
    {
     "data": {
      "text/plain": [
       "namespace(n=6)"
      ]
     },
     "execution_count": 140,
     "metadata": {},
     "output_type": "execute_result"
    }
   ],
   "source": [
    "nspace"
   ]
  },
  {
   "cell_type": "code",
   "execution_count": null,
   "id": "9ef6f917-5c63-42b4-a3b8-7597c7fc0ed2",
   "metadata": {},
   "outputs": [],
   "source": []
  }
 ],
 "metadata": {
  "kernelspec": {
   "display_name": "Python 3.10.8 ('.venv': venv)",
   "language": "python",
   "name": "python3"
  },
  "language_info": {
   "codemirror_mode": {
    "name": "ipython",
    "version": 3
   },
   "file_extension": ".py",
   "mimetype": "text/x-python",
   "name": "python",
   "nbconvert_exporter": "python",
   "pygments_lexer": "ipython3",
   "version": "3.10.8"
  },
  "vscode": {
   "interpreter": {
    "hash": "3c89ab65b7a02956f3010b5abf1fe29704c9550925662b291cbeca0898b136ee"
   }
  }
 },
 "nbformat": 4,
 "nbformat_minor": 5
}
